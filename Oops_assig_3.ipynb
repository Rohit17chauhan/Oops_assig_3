{
 "cells": [
  {
   "cell_type": "code",
   "execution_count": 1,
   "id": "a2381bb8-da2e-41d0-9568-bfbc7a4a06aa",
   "metadata": {},
   "outputs": [
    {
     "data": {
      "text/plain": [
       "' Q1. What is Abstraction in OOps? Explain with an example.'"
      ]
     },
     "execution_count": 1,
     "metadata": {},
     "output_type": "execute_result"
    }
   ],
   "source": [
    "\"\"\" Q1. What is Abstraction in OOps? Explain with an example.\"\"\""
   ]
  },
  {
   "cell_type": "code",
   "execution_count": 35,
   "id": "e0b5b468-7e6e-48ac-8bec-916f9131fe70",
   "metadata": {},
   "outputs": [],
   "source": [
    "Ans_1=\" Abstrct are used to make blueprint or structure  of the program\""
   ]
  },
  {
   "cell_type": "code",
   "execution_count": 36,
   "id": "46b792fa-8666-4ef9-82de-940b2d9d6f75",
   "metadata": {},
   "outputs": [
    {
     "data": {
      "text/plain": [
       "' Abstrct are used to make blueprint or structure  of the program'"
      ]
     },
     "execution_count": 36,
     "metadata": {},
     "output_type": "execute_result"
    }
   ],
   "source": [
    "Ans_1"
   ]
  },
  {
   "cell_type": "code",
   "execution_count": 27,
   "id": "e34ebccb-d882-4e8e-ac70-6abfe26a8ad3",
   "metadata": {},
   "outputs": [],
   "source": [
    "import abc \n",
    "class car1:\n",
    "    @abc.abstractmethod\n",
    "    def car_ownar(self):\n",
    "        pass\n",
    "    @abc.abstractmethod\n",
    "    def car_run(self):\n",
    "        pass\n",
    "    @abc.abstractmethod\n",
    "    def car_price(self):\n",
    "        pass"
   ]
  },
  {
   "cell_type": "code",
   "execution_count": 28,
   "id": "820cbeda-3a19-46bd-bbb9-23bb9d0855d1",
   "metadata": {},
   "outputs": [],
   "source": [
    "class another(car1):\n",
    "    def car_ownar(self):\n",
    "        return\"RAHUL IS THE OWNER OF THIS CAR \"\n",
    "    def car_run(self):\n",
    "        return\" car run daily 300km\"\n",
    "    def car_price(self):\n",
    "        return\" car price is 1500000 \""
   ]
  },
  {
   "cell_type": "code",
   "execution_count": 29,
   "id": "e41e7bf0-3628-4617-a640-6d1f72275e8f",
   "metadata": {},
   "outputs": [],
   "source": [
    "obj_car=another()"
   ]
  },
  {
   "cell_type": "code",
   "execution_count": 30,
   "id": "34e3c53e-5356-4196-89cf-9c4705135d94",
   "metadata": {},
   "outputs": [
    {
     "data": {
      "text/plain": [
       "'RAHUL IS THE OWNER OF THIS CAR '"
      ]
     },
     "execution_count": 30,
     "metadata": {},
     "output_type": "execute_result"
    }
   ],
   "source": [
    "obj_car.car_ownar()"
   ]
  },
  {
   "cell_type": "code",
   "execution_count": null,
   "id": "7fe85021-1370-4723-9b76-24347fd0439f",
   "metadata": {},
   "outputs": [],
   "source": []
  },
  {
   "cell_type": "code",
   "execution_count": 32,
   "id": "4761e260-770b-4680-9cb3-c3d2fc4926a7",
   "metadata": {},
   "outputs": [
    {
     "data": {
      "text/plain": [
       "' car price is 1500000 '"
      ]
     },
     "execution_count": 32,
     "metadata": {},
     "output_type": "execute_result"
    }
   ],
   "source": [
    "obj_car.car_price()"
   ]
  },
  {
   "cell_type": "code",
   "execution_count": 34,
   "id": "78899e5a-22a6-4f66-9b6f-1fcdfa209627",
   "metadata": {},
   "outputs": [
    {
     "data": {
      "text/plain": [
       "' car run daily 300km'"
      ]
     },
     "execution_count": 34,
     "metadata": {},
     "output_type": "execute_result"
    }
   ],
   "source": [
    "obj_car.car_run()"
   ]
  },
  {
   "cell_type": "code",
   "execution_count": 37,
   "id": "07a69c54-66ee-45f8-a5e5-00f22cd7ccc3",
   "metadata": {},
   "outputs": [
    {
     "data": {
      "text/plain": [
       "' Q2. Differentiate between Abstraction and Encapsulation. Explain with an example. '"
      ]
     },
     "execution_count": 37,
     "metadata": {},
     "output_type": "execute_result"
    }
   ],
   "source": [
    "\"\"\" Q2. Differentiate between Abstraction and Encapsulation. Explain with an example. \"\"\""
   ]
  },
  {
   "cell_type": "code",
   "execution_count": 39,
   "id": "e65c8218-c52a-412a-b5c4-6ec986464d64",
   "metadata": {},
   "outputs": [],
   "source": [
    " Abstraction_Encapsulation =\"They both seem very similar but totally different in concept and implementation. The major difference between abstraction and encapsulation is that abstraction hides the code complexity while encapsulation hides the internal working from the outside world\""
   ]
  },
  {
   "cell_type": "code",
   "execution_count": 40,
   "id": "67f1f299-bc01-4745-a1b1-b1057a37cbb6",
   "metadata": {},
   "outputs": [
    {
     "data": {
      "text/plain": [
       "'There are two other features of OOPs abstraction and encapsulation. They both seem very similar but totally different in concept and implementation. The major difference between abstraction and encapsulation is that abstraction hides the code complexity while encapsulation hides the internal working from the outside world'"
      ]
     },
     "execution_count": 40,
     "metadata": {},
     "output_type": "execute_result"
    }
   ],
   "source": [
    " Abstraction_Encapsulation "
   ]
  },
  {
   "cell_type": "code",
   "execution_count": 41,
   "id": "6929d824-e7bf-479f-9c14-33346675efdd",
   "metadata": {},
   "outputs": [
    {
     "data": {
      "text/plain": [
       "' Q3. What is abc module in python? Why is it used? '"
      ]
     },
     "execution_count": 41,
     "metadata": {},
     "output_type": "execute_result"
    }
   ],
   "source": [
    "\"\"\" Q3. What is abc module in python? Why is it used? \"\"\""
   ]
  },
  {
   "cell_type": "code",
   "execution_count": 42,
   "id": "d8f2de75-04d5-4841-8b45-431a9dcfbde2",
   "metadata": {},
   "outputs": [],
   "source": [
    "abc=\"abc means abstract base class,The main goal of the abstract base class is to provide a standardized way to test whether an object adheres to a given specification. It can also prevent any attempt to instantiate a subclass that doesn’t override a particular method in the superclass. And finally, using an abstract class, a class can derive identity from another class without any object inheritance.\""
   ]
  },
  {
   "cell_type": "code",
   "execution_count": 43,
   "id": "15bad8a6-23ff-4fdd-bd9f-aff67d646cae",
   "metadata": {},
   "outputs": [
    {
     "data": {
      "text/plain": [
       "'abc means abstract base class,The main goal of the abstract base class is to provide a standardized way to test whether an object adheres to a given specification. It can also prevent any attempt to instantiate a subclass that doesn’t override a particular method in the superclass. And finally, using an abstract class, a class can derive identity from another class without any object inheritance.'"
      ]
     },
     "execution_count": 43,
     "metadata": {},
     "output_type": "execute_result"
    }
   ],
   "source": [
    "abc"
   ]
  },
  {
   "cell_type": "code",
   "execution_count": 44,
   "id": "91475820-ef7c-4646-9d02-799dfe8706a1",
   "metadata": {},
   "outputs": [
    {
     "data": {
      "text/plain": [
       "' Q4. How can we achieve data abstraction?  '"
      ]
     },
     "execution_count": 44,
     "metadata": {},
     "output_type": "execute_result"
    }
   ],
   "source": [
    "\"\"\" Q4. How can we achieve data abstraction?  \"\"\""
   ]
  },
  {
   "cell_type": "code",
   "execution_count": 45,
   "id": "6611fb04-a977-4eeb-a9b5-351d499a5aff",
   "metadata": {},
   "outputs": [],
   "source": [
    "achive=\"We can define an abstract method using @abstractmethod keyword on the top of a method. We can use abc module of python to achieve data abstraction in python.\""
   ]
  },
  {
   "cell_type": "code",
   "execution_count": 46,
   "id": "1623319a-f83a-4f93-86c7-314857584deb",
   "metadata": {},
   "outputs": [
    {
     "data": {
      "text/plain": [
       "'We can define an abstract method using @abstractmethod keyword on the top of a method. We can use abc module of python to achieve data abstraction in python.'"
      ]
     },
     "execution_count": 46,
     "metadata": {},
     "output_type": "execute_result"
    }
   ],
   "source": [
    "achive"
   ]
  },
  {
   "cell_type": "code",
   "execution_count": null,
   "id": "a5b81d1a-3c9b-41d5-ae28-539ca6418643",
   "metadata": {},
   "outputs": [],
   "source": [
    "\"\"\" Q5. Can we create an instance of an abstract class? Explain your answer.\"\"\""
   ]
  },
  {
   "cell_type": "code",
   "execution_count": 48,
   "id": "2f97b279-64b6-459a-8142-0f0d8cc75b61",
   "metadata": {},
   "outputs": [],
   "source": [
    "instance= \" No, we can'tcreate an instance of an abstract class in most object-oriented programming languages. Abstract classes are designed to serve as blueprints or templates for other classes .\""
   ]
  },
  {
   "cell_type": "code",
   "execution_count": 49,
   "id": "fafe76b6-1ca2-47fe-ad8d-5bbcdb8b5749",
   "metadata": {},
   "outputs": [
    {
     "data": {
      "text/plain": [
       "\" No, we can'tcreate an instance of an abstract class in most object-oriented programming languages. Abstract classes are designed to serve as blueprints or templates for other classes .\""
      ]
     },
     "execution_count": 49,
     "metadata": {},
     "output_type": "execute_result"
    }
   ],
   "source": [
    "instance"
   ]
  },
  {
   "cell_type": "code",
   "execution_count": null,
   "id": "1eaaff0f-7f33-4c60-8986-a0ed8ed8ed4b",
   "metadata": {},
   "outputs": [],
   "source": []
  }
 ],
 "metadata": {
  "kernelspec": {
   "display_name": "Python 3 (ipykernel)",
   "language": "python",
   "name": "python3"
  },
  "language_info": {
   "codemirror_mode": {
    "name": "ipython",
    "version": 3
   },
   "file_extension": ".py",
   "mimetype": "text/x-python",
   "name": "python",
   "nbconvert_exporter": "python",
   "pygments_lexer": "ipython3",
   "version": "3.10.8"
  }
 },
 "nbformat": 4,
 "nbformat_minor": 5
}
